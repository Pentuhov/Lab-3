{
 "cells": [
  {
   "cell_type": "markdown",
   "metadata": {},
   "source": [
    "Решить систему линейных уравнений \n",
    "4x1-3x2+2x3=8 \n",
    "3x1-2x2+x3=7 \n",
    "5x1-3x2+x3=1"
   ]
  },
  {
   "cell_type": "code",
   "execution_count": 4,
   "metadata": {},
   "outputs": [],
   "source": [
    "import numpy as np"
   ]
  },
  {
   "cell_type": "markdown",
   "metadata": {},
   "source": [
    "# Метод Крамера"
   ]
  },
  {
   "cell_type": "code",
   "execution_count": 5,
   "metadata": {},
   "outputs": [
    {
     "name": "stdout",
     "output_type": "stream",
     "text": [
      "X=  [1.8014398509481974e+16, 3.602879701896397e+16, 1.8014398509481974e+16]\n"
     ]
    }
   ],
   "source": [
    "A = [[4., -3., 2.],[3., -2., 1.],[5., -3., 1.]]\n",
    "B = [8., 7., 1.]\n",
    "def Kram(A, B):\n",
    "    m = len(A)\n",
    "    op = np.linalg.det(A)\n",
    "    r = list()\n",
    "    for i in range(m):\n",
    "        VM=np.copy(A)\n",
    "        VM[:,i]=B\n",
    "        r.append(np.linalg.det(VM)/op)\n",
    "    return r\n",
    "X = Kram(A, B)\n",
    "print('X= ',X)"
   ]
  },
  {
   "cell_type": "markdown",
   "metadata": {},
   "source": [
    "# Матречный метод"
   ]
  },
  {
   "cell_type": "code",
   "execution_count": 6,
   "metadata": {},
   "outputs": [
    {
     "name": "stdout",
     "output_type": "stream",
     "text": [
      "E = [1.80143985e+16 3.60287970e+16 1.80143985e+16]\n"
     ]
    }
   ],
   "source": [
    "Q = np.array([[4., -3., 2.],[3., -2., 1.],[5., -3., 1.]])\n",
    "W = np.array([8., 7., 1.])\n",
    "E = np.linalg.solve(Q, W)\n",
    "print('E =',E)"
   ]
  },
  {
   "cell_type": "code",
   "execution_count": null,
   "metadata": {},
   "outputs": [],
   "source": []
  }
 ],
 "metadata": {
  "kernelspec": {
   "display_name": "Python 3",
   "language": "python",
   "name": "python3"
  },
  "language_info": {
   "codemirror_mode": {
    "name": "ipython",
    "version": 3
   },
   "file_extension": ".py",
   "mimetype": "text/x-python",
   "name": "python",
   "nbconvert_exporter": "python",
   "pygments_lexer": "ipython3",
   "version": "3.8.5"
  }
 },
 "nbformat": 4,
 "nbformat_minor": 4
}
